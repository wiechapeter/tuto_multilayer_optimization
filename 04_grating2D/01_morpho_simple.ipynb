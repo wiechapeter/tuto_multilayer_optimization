{
  "cells": [
    {
      "cell_type": "markdown",
      "metadata": {
        "id": "y8ND1-qjbYOu"
      },
      "source": [
        "# Tutorial: Morpho problem setup"
      ]
    },
    {
      "cell_type": "code",
      "execution_count": 1,
      "metadata": {
        "id": "jy6FSY2kbYOv",
        "outputId": "d1db45dd-900c-4a05-dd5f-e2a0d0e19415",
        "colab": {
          "base_uri": "https://localhost:8080/"
        }
      },
      "outputs": [
        {
          "output_type": "stream",
          "name": "stdout",
          "text": [
            "Requirement already satisfied: nevergrad in /usr/local/lib/python3.10/dist-packages (1.0.0)\n",
            "Requirement already satisfied: numpy>=1.24.0 in /usr/local/lib/python3.10/dist-packages (from nevergrad) (1.26.1)\n",
            "Requirement already satisfied: cma>=2.6.0 in /usr/local/lib/python3.10/dist-packages (from nevergrad) (3.3.0)\n",
            "Requirement already satisfied: bayesian-optimization>=1.2.0 in /usr/local/lib/python3.10/dist-packages (from nevergrad) (1.4.3)\n",
            "Requirement already satisfied: typing-extensions>=3.6.6 in /usr/local/lib/python3.10/dist-packages (from nevergrad) (4.5.0)\n",
            "Requirement already satisfied: pandas in /usr/local/lib/python3.10/dist-packages (from nevergrad) (1.5.3)\n",
            "Requirement already satisfied: scipy>=1.0.0 in /usr/local/lib/python3.10/dist-packages (from bayesian-optimization>=1.2.0->nevergrad) (1.11.3)\n",
            "Requirement already satisfied: scikit-learn>=0.18.0 in /usr/local/lib/python3.10/dist-packages (from bayesian-optimization>=1.2.0->nevergrad) (1.2.2)\n",
            "Requirement already satisfied: colorama>=0.4.6 in /usr/local/lib/python3.10/dist-packages (from bayesian-optimization>=1.2.0->nevergrad) (0.4.6)\n",
            "Requirement already satisfied: python-dateutil>=2.8.1 in /usr/local/lib/python3.10/dist-packages (from pandas->nevergrad) (2.8.2)\n",
            "Requirement already satisfied: pytz>=2020.1 in /usr/local/lib/python3.10/dist-packages (from pandas->nevergrad) (2023.3.post1)\n",
            "Requirement already satisfied: six>=1.5 in /usr/local/lib/python3.10/dist-packages (from python-dateutil>=2.8.1->pandas->nevergrad) (1.16.0)\n",
            "Requirement already satisfied: joblib>=1.1.1 in /usr/local/lib/python3.10/dist-packages (from scikit-learn>=0.18.0->bayesian-optimization>=1.2.0->nevergrad) (1.3.2)\n",
            "Requirement already satisfied: threadpoolctl>=2.0.0 in /usr/local/lib/python3.10/dist-packages (from scikit-learn>=0.18.0->bayesian-optimization>=1.2.0->nevergrad) (3.2.0)\n"
          ]
        }
      ],
      "source": [
        "# install dependecies\n",
        "!pip install -U nevergrad"
      ]
    },
    {
      "cell_type": "markdown",
      "metadata": {
        "id": "lVf9RK6GbYOw"
      },
      "source": [
        "## load modules"
      ]
    },
    {
      "cell_type": "code",
      "execution_count": 2,
      "metadata": {
        "id": "AGx4tS3lbYOw"
      },
      "outputs": [],
      "source": [
        "import nevergrad as ng\n",
        "import matplotlib.pyplot as plt\n",
        "import numpy as np"
      ]
    },
    {
      "cell_type": "markdown",
      "metadata": {
        "id": "jkwzymk1bYOx"
      },
      "source": [
        "## Define the cost function\n",
        "The morpho testcase corresponds to the minimization of the blue specular reflection provided by a 2D grating. The 600 nm period is constituted of 5 number of layers with 1 block of matter (of permittivity 2.4336). Each block is characterized by its width, thickness, and position in the period. The optical properties of the grating are computed with a RCWA method."
      ]
    },
    {
      "cell_type": "code",
      "execution_count": 3,
      "metadata": {
        "id": "hoin7NvUbYOx"
      },
      "outputs": [],
      "source": [
        "i = complex(0,1)\n",
        "\n",
        "### RCWA functions\n",
        "def cascade(T,U):\n",
        "    n=int(T.shape[1]/2)\n",
        "    J=np.linalg.inv(np.eye(n)-np.matmul(U[0:n,0:n],T[n:2*n,n:2*n]))\n",
        "    K=np.linalg.inv(np.eye(n)-np.matmul(T[n:2*n,n:2*n],U[0:n,0:n]))\n",
        "    S=np.block([[T[0:n,0:n]+np.matmul(np.matmul(np.matmul(T[0:n,n:2*n],J),U[0:n,0:n]),T[n:2*n,0:n]),np.matmul(np.matmul(T[0:n,n:2*n],J),U[0:n,n:2*n])],[np.matmul(np.matmul(U[n:2*n,0:n],K),T[n:2*n,0:n]),U[n:2*n,n:2*n]+np.matmul(np.matmul(np.matmul(U[n:2*n,0:n],K),T[n:2*n,n:2*n]),U[0:n,n:2*n])]])\n",
        "    return S\n",
        "\n",
        "def c_bas(A,V,h):\n",
        "    n=int(A.shape[1]/2)\n",
        "    D=np.diag(np.exp(1j*V*h))\n",
        "    S=np.block([[A[0:n,0:n],np.matmul(A[0:n,n:2*n],D)],[np.matmul(D,A[n:2*n,0:n]),np.matmul(np.matmul(D,A[n:2*n,n:2*n]),D)]])\n",
        "    return S\n",
        "\n",
        "def marche(a,b,p,n,x):\n",
        "    from scipy.linalg import toeplitz\n",
        "    l=np.zeros(n,dtype=np.complex128)\n",
        "    m=np.zeros(n,dtype=np.complex128)\n",
        "    tmp=1/(2*np.pi*np.arange(1,n))*(np.exp(-2*1j*np.pi*p*np.arange(1,n))-1)*np.exp(-2*1j*np.pi*np.arange(1,n)*x)\n",
        "    l[1:n]=1j*(a-b)*tmp\n",
        "    l[0]=p*a+(1-p)*b\n",
        "    m[0]=l[0]\n",
        "    m[1:n]=1j*(b-a)*np.conj(tmp)\n",
        "    T=toeplitz(l,m)\n",
        "    return T\n",
        "\n",
        "def creneau(k0,a0,pol,e1,e2,a,n,x0):\n",
        "    nmod=int(n/2)\n",
        "    alpha=np.diag(a0+2*np.pi*np.arange(-nmod,nmod+1))\n",
        "    if (pol==0):\n",
        "        M=alpha*alpha-k0*k0*marche(e1,e2,a,n,x0)\n",
        "        L,E=np.linalg.eig(M)\n",
        "        L=np.sqrt(-L+0j)\n",
        "        L=(1-2*(np.imag(L)<-1e-15))*L\n",
        "        P=np.block([[E],[np.matmul(E,np.diag(L))]])\n",
        "    else:\n",
        "        U=marche(1/e1,1/e2,a,n,x0)\n",
        "        T=np.linalg.inv(U)\n",
        "        M=np.matmul(np.matmul(np.matmul(T,alpha),np.linalg.inv(marche(e1,e2,a,n,x0))),alpha)-k0*k0*T\n",
        "        L,E=np.linalg.eig(M)\n",
        "        L=np.sqrt(-L+0j)\n",
        "        L=(1-2*(np.imag(L)<-1e-15))*L\n",
        "        P=np.block([[E],[np.matmul(np.matmul(U,E),np.diag(L))]])\n",
        "    return P,L\n",
        "\n",
        "def homogene(k0,a0,pol,epsilon,n):\n",
        "    nmod=int(n/2)\n",
        "    valp=np.sqrt(epsilon*k0*k0-(a0+2*np.pi*np.arange(-nmod,nmod+1))**2+0j)\n",
        "    valp=valp*(1-2*(valp<0))*(pol/epsilon+(1-pol))\n",
        "    P=np.block([[np.eye(n)],[np.diag(valp)]])\n",
        "    return P,valp\n",
        "\n",
        "def interface(P,Q):\n",
        "    n=int(P.shape[1])\n",
        "    S=np.matmul(np.linalg.inv(np.block([[P[0:n,0:n],-Q[0:n,0:n]],[P[n:2*n,0:n],Q[n:2*n,0:n]]])),np.block([[-P[0:n,0:n],Q[0:n,0:n]],[P[n:2*n,0:n],Q[n:2*n,0:n]]]))\n",
        "    return S\n",
        "\n",
        "### Cost function\n",
        "def cost_morpho(x):\n",
        "    lam_blue = 449.5897\n",
        "    pol = 1\n",
        "    d = 600.521475\n",
        "    nmod = 25\n",
        "    e2 = 2.4336\n",
        "    n = 2 * nmod + 1\n",
        "    n_motifs = int(x.size / 3)\n",
        "    x = x / d\n",
        "    h = x[n_motifs : 2*n_motifs]\n",
        "    x0 = x[2 * n_motifs : 3 * n_motifs]\n",
        "    a = x[0:n_motifs]\n",
        "    spacers = np.zeros(a.size)\n",
        "\n",
        "    #Maximization of the blue specular reflection\n",
        "    l = lam_blue / d\n",
        "    k0 = 2 * np.pi / l\n",
        "    P, V = homogene(k0, 0, pol, 1, n)\n",
        "    S = np.block([[np.zeros([n, n]), np.eye(n, dtype=np.complex128)], [np.eye(n), np.zeros([n, n])]])\n",
        "    for j in range(0, n_motifs):\n",
        "        Pc, Vc = creneau(k0, 0, pol, e2, 1, a[j], n, x0[j])\n",
        "        S = cascade(S, interface(P, Pc))\n",
        "        S = c_bas(S, Vc, h[j])\n",
        "        S = cascade(S, interface(Pc, P))\n",
        "        S = c_bas(S, V, spacers[j])\n",
        "    Pc, Vc = homogene(k0, 0, pol, e2, n)\n",
        "    S = cascade(S, interface(P, Pc))\n",
        "    R = np.zeros(3, dtype=float)\n",
        "    for j in range(-1, 2):\n",
        "        R[j] = abs(S[j + nmod, nmod]) ** 2 * np.real(V[j + nmod]) / k0\n",
        "    cost = 1 - (R[-1] + R[1]) / 2 + R[0] / 2\n",
        "\n",
        "    return(cost)"
      ]
    },
    {
      "cell_type": "markdown",
      "metadata": {
        "id": "fNFkOdhVbYOx"
      },
      "source": [
        "## Setting up the optimization problem\n",
        "\n",
        "Now we define the specific configuration of our optimization problem. We parametrize the minimum and maximum values of the width, thickness, and position of each blocks."
      ]
    },
    {
      "cell_type": "code",
      "execution_count": 4,
      "metadata": {
        "id": "X_pzZ8XAbYOx"
      },
      "outputs": [],
      "source": [
        "nb_layers = 5\n",
        "min_w = 0\n",
        "max_w = 600\n",
        "min_thick = 0\n",
        "max_thick = 200\n",
        "min_p = 0\n",
        "max_p = 600"
      ]
    },
    {
      "cell_type": "markdown",
      "metadata": {
        "id": "xNRNyvxKbYOy"
      },
      "source": [
        "## Setup the Nevergrad optimizer\n",
        "\n",
        "Now we set up the parametrization for nevergrad (this is called *parametrization*).\n",
        "Finally, we configure the optimizer."
      ]
    },
    {
      "cell_type": "code",
      "execution_count": 5,
      "metadata": {
        "id": "7e3hxcr0bYOy"
      },
      "outputs": [],
      "source": [
        "budget = 3 * nb_layers * 20\n",
        "N_population = 30\n",
        "\n",
        "parametrization = ng.p.Array(\n",
        "    shape=(3*nb_layers,),\n",
        "    lower=[min_w]*nb_layers + [min_thick]*nb_layers + [min_p]*nb_layers,\n",
        "    upper=[max_w]*nb_layers + [max_thick]*nb_layers + [max_p]*nb_layers,\n",
        ")\n",
        "\n",
        "optim_algos_DE = ng.optimizers.registry['DE']\n",
        "optimizer = optim_algos_DE(parametrization, budget=budget)"
      ]
    },
    {
      "cell_type": "markdown",
      "metadata": {
        "id": "e9RLwj2DbYOy"
      },
      "source": [
        "## run the optimization\n",
        "\n",
        "Running the optimization is straightforward. We simply pass the cost function (`cost_morpho`) to the `minimize` function of the optimizer. The problem is configured inside the optimzer object and cost function."
      ]
    },
    {
      "cell_type": "code",
      "execution_count": 6,
      "metadata": {
        "id": "O7y546PubYOy"
      },
      "outputs": [],
      "source": [
        "x_opt = optimizer.minimize(cost_morpho)\n"
      ]
    },
    {
      "cell_type": "markdown",
      "metadata": {
        "id": "7RY-PH8ybYOy"
      },
      "source": [
        "## analyze the result\n",
        "\n",
        "Finally, we calculate the cost for the final best solution:"
      ]
    },
    {
      "cell_type": "code",
      "execution_count": 7,
      "metadata": {
        "id": "DynYLa5wbYOy",
        "outputId": "5238ab3b-0c0d-4ab1-fcff-5e9fdaa1a06b",
        "colab": {
          "base_uri": "https://localhost:8080/"
        }
      },
      "outputs": [
        {
          "output_type": "stream",
          "name": "stdout",
          "text": [
            "[294.45058361   9.53313915  95.5192496  168.70784432 266.4340641\n",
            " 108.42888831  23.68055379 111.49024292  37.3629864   54.46497687\n",
            " 178.05595156  58.61213759 132.18764145 220.1411285  169.26005152]\n",
            "0.962404383162714\n"
          ]
        }
      ],
      "source": [
        "x = x_opt.value\n",
        "print(x)\n",
        "cf_x = cost_morpho(x)\n",
        "print(cf_x)"
      ]
    }
  ],
  "metadata": {
    "kernelspec": {
      "display_name": "Python 3.10.12 64-bit",
      "language": "python",
      "name": "python3"
    },
    "language_info": {
      "codemirror_mode": {
        "name": "ipython",
        "version": 3
      },
      "file_extension": ".py",
      "mimetype": "text/x-python",
      "name": "python",
      "nbconvert_exporter": "python",
      "pygments_lexer": "ipython3",
      "version": "3.10.12"
    },
    "orig_nbformat": 4,
    "vscode": {
      "interpreter": {
        "hash": "916dbcbb3f70747c44a77c7bcd40155683ae19c65e1c03b4aa3499c5328201f1"
      }
    },
    "colab": {
      "provenance": []
    }
  },
  "nbformat": 4,
  "nbformat_minor": 0
}
